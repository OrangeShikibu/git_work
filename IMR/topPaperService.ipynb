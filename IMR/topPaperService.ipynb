{
 "cells": [
  {
   "cell_type": "markdown",
   "metadata": {},
   "source": [
    "## 部局提出名簿ベースの個人別文献リストの自動配信サービス\n",
    "\n",
    "作者：ハンゼンURA（協力：和田URA）  \n",
    "更新日：2022/07/15 （オリジナル）\n",
    "環境：Python Anaconda (Python3）  \n",
    "データソース：①SciVal文献リスト②Scopus（SciValで500名上の著者のEIDとScopus著者IDリスト20~30件程度）, 部局の研究者名簿（最低限：メールアドレスとScopus著者IDのリスト）\n",
    "\n",
    "名簿の形式について  \n",
    "・下記列名（全て文字列とする。メールアドレスは東北大学メールを想定している（他のメールも対応可能）  \n",
    "・メールアドレス\t氏名\t職名\t部局名\t所属\tScopus_AuthorID_01\tScopus_AuthorID_02  \n",
    "・人事名簿の転記情報にScopus著者IDを付与するイメージ  \n",
    "・「.xlsx」のエクセル形式  \n",
    "\n",
    "フォルダー構造：「プログラムフォルダー」の中に「input」を作成する。「input」に①②③のデータを置く。  \n",
    "確認事項：名簿に不要な列がないか、空白がないか、メールアドレスの形式に誤記がないか\n",
    "\n",
    "留意点：GメールのAPIは本学メールアドレスで使用できないため、外部用のGメールアドレスの用意が必要  \n",
    "お問い合わせ先：hansen.marc.a6@tohoku.ac.jp  \n",
    "  \n",
    "### 処理の流れ\n",
    "\n",
    "①　環境設定を行う（GMailのアカウント情報をご確認ください）  \n",
    "②　論文情報（SciVal + Scopus）と部局の研究者名簿を読み込む  \n",
    "③　パラメーター設定を行い、書誌情報を絞り込む（トップ論文の指標の選択、パーセンタイルの範囲、対象期間（出版年）、並びに文献タイプ）  \n",
    "④　書誌情報と研究者の情報のマッチングを行う  \n",
    "⑤　ユニークなメールアドレスを基に、マッチング結果の集計を行う  \n",
    "⑥　メールアドレスごとに、文献リストを定型文に流し込み、自動的にメール配信を行う"
   ]
  },
  {
   "cell_type": "markdown",
   "metadata": {},
   "source": [
    "# ①　環境設定を行う"
   ]
  },
  {
   "cell_type": "code",
   "execution_count": 13,
   "metadata": {},
   "outputs": [],
   "source": [
    "# 処理に必要なライブラリー\n",
    "\n",
    "## データフレーム処理、配列処理、日付の基本的なライブラリーのみ\n",
    "import pandas as pd\n",
    "import numpy as np\n",
    "import datetime\n",
    "import os\n",
    "\n",
    "## メール配信に必要なライブラリーを読み込む\n",
    "import time\n",
    "import random\n",
    "import smtplib, ssl\n",
    "from email.mime.text import MIMEText\n",
    "\n",
    "# GメールSMTP認証情報（外部用Gメールのアカウント情報。ご自分の情報を記入してください。）\n",
    "## 重要：APIを有効化するために、下記URLのGoogleアカウントの設定を行ってください（必須！）。\n",
    "## まず自分のGmailアカウントを開きます。\n",
    "## ご自身のアイコンをクリックします。「Googleアカウントを管理」をクリック。\n",
    "## 左のメニューの中のセキュリティをクリック。このページの下の方へいきます\n",
    "## 「安全性の低いアプリのアクセス」の「アクセスを有効にする（非推奨）」をクリックします。\n",
    "## 「安全性の低いアプリの許可」を有効します。これで設定の完了です。\n",
    "## こちらで送信の準備が整ったので送信の設定をしていきましょう。\n",
    "## なお、このセキュリティの設定変更は、セキュリティ上の危険もあります。\n",
    "## 別途セキュリティについて検討するか、本番運用する場合は、Gmail APIを使って配信することも検討しましょう。\n",
    "## ハンゼン配信専用メールアドレス\n",
    "account = \"hansen.marc.tu@gmail.com\"\n",
    "password = \"Y2yAEmQi+$3\"\n",
    "app_password = \"ciqjnlstnosmpjjl\" # after 2022.05"
   ]
  },
  {
   "cell_type": "markdown",
   "metadata": {},
   "source": [
    "## ②　論文情報（SciVal + Scopus）と部局の研究者名簿を読み込む"
   ]
  },
  {
   "cell_type": "code",
   "execution_count": 14,
   "metadata": {},
   "outputs": [
    {
     "name": "stdout",
     "output_type": "stream",
     "text": [
      "outputフォルダーは既にあります\n"
     ]
    }
   ],
   "source": [
    "# 部局のほうで入力が必要な部分（各種ファイルのファイル名と部局名）\n",
    "\n",
    "# 書誌情報のインプットデータの指定 => 情報科学研究科は名簿上の研究者の生涯論文を対象とする！\n",
    "## SciValは文献リスト全項目（csv形式、未加工）\n",
    "## Scopusは前処理を不要にするために「Author(s) ID,Link,EID」3項目のみダウンロードする（csv形式）\n",
    "## 保存場所はいずれも「input」フォルダー\n",
    "\n",
    "# 部局名とファイル名の指定を行う\n",
    "\n",
    "##　部局名を\"\"の間に入力してください\n",
    "bukyokumei = \"国際放射光イノベーションスマート研究センター\"\n",
    "\n",
    "##　SciValデータのファイル名を\"\"の間に入力してください\n",
    "scival_file = \"Publications_at_Tohoku_University_2008_to__2022.csv\"\n",
    "\n",
    "##　Scopusデータのファイル名を\"\"の間に入力してください\n",
    "scopus_file = \"scopus.csv\"\n",
    "\n",
    "##　部局名簿のファイル名を\"\"の間に入力してください\n",
    "meibo_file = \"sris_meibo_20220719.xlsx\"\n",
    "\n",
    "input_pubdata_scival = \"input\\\\\" + scival_file\n",
    "input_over500authors_scopus = \"input\\\\\" + scopus_file\n",
    "input_bukyoku_meibo = \"input\\\\\" + meibo_file \n",
    "\n",
    "#outputのフォルダーの有無の確認\n",
    "if not os.path.exists(\"output\"):\n",
    "    os.makedirs(\"output\")\n",
    "    print(\"outputフォルダーを作成しました\")\n",
    "else:    \n",
    "    print(\"outputフォルダーは既にあります\")  "
   ]
  },
  {
   "cell_type": "markdown",
   "metadata": {
    "tags": []
   },
   "source": [
    "## ③　パラメーター設定を行い、書誌情報を絞り込む（トップ論文の指標の選択、パーセンタイルの範囲、対象期間（出版年）、並びに文献タイプ）  "
   ]
  },
  {
   "cell_type": "code",
   "execution_count": 15,
   "metadata": {},
   "outputs": [],
   "source": [
    "# パラーメータの指定（パラメーター設定の変更は可能）\n",
    "\n",
    "## 対象期間の指定（デフォールト：近年5年+α, #2008, 2009, 2011, 2012, 2013, 2014, 2015, 2022）追加削除可（, 年）\n",
    "year_range = [2016, 2017, 2018, 2019, 2020, 2021]\n",
    "\n",
    "## 文献タイプの指定（デフォールト：全文献タイプ、但し、\"Erratum\", \"Retracted\", を含まない）追加削除可（, \"文献タイプ名\"）\n",
    "doctype_list = [\"Review\", \"Article\", \"Editorial\", \"Note\", \"Conference Paper\", \"Book\", \"Letter\",\n",
    "                \"Short Survey\", \"Chapter\", \"Article in Press\", \"Data Paper\"]\n",
    "\n",
    "## パーセンタイルの範囲（デフォールト：１～１５パーセンタイル、数字の置換で範囲の変更が可能）\n",
    "### トップパーセンタイルは二種類の指標があり、本サービスのデフォールトはAの分野補正のある指標になる\n",
    "### Aは分野補正（FWCI基準）= Field-Weighted Outputs in Top Citation Percentiles, per percentile （デフォールト）\n",
    "### Bは分野補正無し（被引用数基準）= Outputs in Top Citation Percentiles, per percentile\n",
    "toppstart = 1 #デフォールトトップ1パーセント\n",
    "toppend = 15 #デフォールトトップ15パーセント "
   ]
  },
  {
   "cell_type": "markdown",
   "metadata": {},
   "source": [
    "## ④　書誌情報と研究者の情報のマッチングを行う  "
   ]
  },
  {
   "cell_type": "code",
   "execution_count": 16,
   "metadata": {
    "scrolled": true,
    "tags": []
   },
   "outputs": [
    {
     "name": "stdout",
     "output_type": "stream",
     "text": [
      "今日は20220720です。\n",
      "---\n",
      "SciVal（Scopus）データ時点: 2022年7月6日\n"
     ]
    }
   ],
   "source": [
    "#処理結果の管理のために、本日の日付（システムの時間）を取得する\n",
    "today = datetime.date.today()\n",
    "today = str(today).replace(\"-\",\"\")\n",
    "print(\"今日は\" + str(today) + \"です。\")\n",
    "print(\"---\")\n",
    "# SciVal（Scopus）の書誌情報のデータ時点の確認\n",
    "dates = pd.read_csv(input_pubdata_scival, skiprows=(8), nrows=2, header=None)\n",
    "\n",
    "# 上がデータ時点、下が取得日/DL日付\n",
    "#print(dates)\n",
    "timestamp = [ele for ele in dates[1]][0]\n",
    "\n",
    "# 英語の日付を日本語への変換\n",
    "d_day = timestamp.split(\" \")[0]\n",
    "d_month = timestamp.split(\" \")[1]\n",
    "d_month = datetime.datetime.strptime(d_month, \"%B\")\n",
    "d_month = d_month.month\n",
    "d_year= timestamp.split(\" \")[2]\n",
    "timestamp = str(d_year) + \"年\" + str(d_month) + \"月\" + str(d_day) + \"日\"\n",
    "print(\"SciVal（Scopus）データ時点: \" + timestamp)"
   ]
  },
  {
   "cell_type": "code",
   "execution_count": 17,
   "metadata": {},
   "outputs": [
    {
     "name": "stdout",
     "output_type": "stream",
     "text": [
      "パラメータ適応前\n",
      "総レコード数確認（重複なし）\n",
      "94511\n",
      "---\n",
      "出版年確認\n",
      "[2014 2011 2012 2018 2010 2008 2016 2009 2017 2015 2013 2020 2019 2021\n",
      " 2022]\n",
      "---\n",
      "文献タイプ確認\n",
      "['Review' 'Article' 'Editorial' 'Note' 'Conference Paper' 'Book' 'Letter'\n",
      " 'Short Survey' 'Chapter' 'Erratum' 'Retracted' 'Article in Press'\n",
      " 'Data Paper']\n",
      "---\n",
      "Index(['Title', 'Authors', 'Number of Authors', 'Scopus Author Ids', 'Year',\n",
      "       'Full date', 'Scopus Source title', 'Volume', 'Issue', 'Pages',\n",
      "       'Article number', 'ISSN', 'Source ID', 'Source type',\n",
      "       'SNIP (publication year)', 'SNIP percentile (publication year) *',\n",
      "       'CiteScore (publication year)',\n",
      "       'CiteScore percentile (publication year) *', 'SJR (publication year)',\n",
      "       'SJR percentile (publication year) *', 'Field-Weighted View Impact',\n",
      "       'Views', 'Citations', 'Field-Weighted Citation Impact',\n",
      "       'Field-Citation Average',\n",
      "       'Outputs in Top Citation Percentiles, per percentile',\n",
      "       'Field-Weighted Outputs in Top Citation Percentiles, per percentile',\n",
      "       'Patent citations', 'Reference', 'Abstract', 'DOI', 'Publication type',\n",
      "       'Open Access', 'EID', 'PubMed ID', 'Institutions',\n",
      "       'Number of Institutions', 'Scopus Affiliation IDs',\n",
      "       'Scopus Affiliation names', 'Scopus Author ID First Author',\n",
      "       'Scopus Author ID Last Author', 'Scopus Author ID Corresponding Author',\n",
      "       'Scopus Author ID Single Author', 'Country/Region',\n",
      "       'All Science Journal Classification (ASJC) code',\n",
      "       'All Science Journal Classification (ASJC) field name',\n",
      "       'Sustainable Development Goals (2021)', 'Topic Cluster name',\n",
      "       'Topic Cluster number', 'Topic name', 'Topic number',\n",
      "       'Topic Cluster Prominence Percentile', 'Topic Prominence Percentile'],\n",
      "      dtype='object')\n",
      "---\n",
      "著者500名以上文献数： 22\n",
      "22件の著者500名以上文献のAU-IDを置換しました\n",
      "---\n",
      "パラメータ適応後\n",
      "総レコード数確認（重複なし）\n",
      "5985\n",
      "---\n",
      "出版年確認\n",
      "[2018 2016 2017 2020 2019 2021]\n",
      "---\n",
      "文献タイプ確認\n",
      "['Review' 'Article' 'Book' 'Note' 'Short Survey' 'Conference Paper'\n",
      " 'Editorial' 'Letter' 'Chapter' 'Data Paper']\n",
      "---\n",
      "トップパーセンタイル範囲（分野補正）: 1~15\n",
      "---\n",
      "Index(['auids', 'EID', 'Year', 'Title', 'Scopus Source title',\n",
      "       'Publication type',\n",
      "       'All Science Journal Classification (ASJC) field name', 'Citations',\n",
      "       'Field-Weighted Citation Impact',\n",
      "       'Outputs in Top Citation Percentiles, per percentile',\n",
      "       'Field-Weighted Outputs in Top Citation Percentiles, per percentile',\n",
      "       'Abstract'],\n",
      "      dtype='object')\n",
      "---\n"
     ]
    }
   ],
   "source": [
    "# 書誌情報をデータフレームに読み込んで、件数およびパラメーター変数の確認を行う\n",
    "# 前処理結果を書き出す（ヘダー・フッターを除去する作業）\n",
    "# SciValのファイルのヘダー行数が変動する場合があるので、柔軟な読み込み方法を用いている\n",
    "# 本学分の文献リスト\n",
    "data = []\n",
    "\n",
    "with open(input_pubdata_scival, encoding=\"utf-8\") as fp:\n",
    "    skip = next(filter(lambda x: x[1].startswith('\"Title\"'),enumerate(fp)))[0]\n",
    "    frame = pd.read_csv(input_pubdata_scival , skiprows=skip, skipfooter=(2), engine=\"python\", encoding=\"utf-8\")\n",
    "    data.append(frame)\n",
    "            \n",
    "publications = pd.concat(data, ignore_index=True, sort=False)\n",
    "\n",
    "print(\"パラメータ適応前\")\n",
    "print(\"総レコード数確認（重複なし）\")\n",
    "print(len(publications))\n",
    "print(\"---\")\n",
    "print(\"出版年確認\")\n",
    "print(publications[\"Year\"].unique())\n",
    "print(\"---\")\n",
    "print(\"文献タイプ確認\")\n",
    "print(publications[\"Publication type\"].unique())\n",
    "print(\"---\")\n",
    "print(publications.columns)\n",
    "print(\"---\")\n",
    "\n",
    "# SciValで著者情報が省略されてしまっている可能のある文献の確認\n",
    "nb_authors = publications[[\"Number of Authors\"]].astype(np.int64)\n",
    "over500check = len(nb_authors[nb_authors[\"Number of Authors\"]>=500])\n",
    "print(\"著者500名以上文献数： \" + str(over500check))\n",
    "\n",
    "\n",
    "# 2008年以降、エクセルで処理できないほどの著者数（500名以上）の処理のため（マッチングされない恐れ）\n",
    "# 別途用意したScopusの文献リスト（DL項目：Author(s) ID,Link,EID）\n",
    "df_over500 = pd.read_csv(input_over500authors_scopus)\n",
    "df_over500.columns = [\"auids\", \"url\", \"EID\"]\n",
    "df_over500[\"auids\"] = df_over500[\"auids\"].str.replace(\";\",\"|\").str[:-1]\n",
    "\n",
    "#SciValの文献リストに修正が必要なEIDを結合する\n",
    "publications = pd.merge(publications, df_over500, on = \"EID\", how=\"left\")\n",
    "\n",
    "#追加したauidsのBigScienceのAU著者ID列は空白の場合、既存の\"Scopus Author Ids\"の値で補完する\n",
    "publications.loc[publications[\"auids\"].isnull(),\"auids\"] = publications[\"Scopus Author Ids\"]\n",
    "print(str(over500check) + \"件の著者500名以上文献のAU-IDを置換しました\")\n",
    "\n",
    "#絞り込み処理\n",
    "\n",
    "#必要な項目を指定する\n",
    "limit_columns = publications[[\"auids\", \"EID\", \"Year\", \"Title\", \"Scopus Source title\", \"Publication type\", \n",
    "                              \"All Science Journal Classification (ASJC) field name\",\"Citations\",\n",
    "                              \"Field-Weighted Citation Impact\",\"Outputs in Top Citation Percentiles, per percentile\",\n",
    "                              \"Field-Weighted Outputs in Top Citation Percentiles, per percentile\", \"Abstract\"]].copy()\n",
    "\n",
    "#出版年を絞り込む\n",
    "limit_year = limit_columns[limit_columns[\"Year\"].isin(year_range)].copy()\n",
    "# 文献タイプを絞り込む\n",
    "limit_doctype =  limit_year[limit_year[\"Publication type\"].isin(doctype_list)].copy() \n",
    "#トップパーセンタイルを絞り込む（FWCIによる分野補正を受けた指標）\n",
    "scival_filter_result = limit_doctype[(limit_doctype[\"Field-Weighted Outputs in Top Citation Percentiles, per percentile\"] >= toppstart) \n",
    "                                     & (limit_doctype[\"Field-Weighted Outputs in Top Citation Percentiles, per percentile\"] <= toppend)].copy()\n",
    "\n",
    "print(\"---\")\n",
    "print(\"パラメータ適応後\")\n",
    "print(\"総レコード数確認（重複なし）\")\n",
    "print(len(scival_filter_result))\n",
    "print(\"---\")\n",
    "print(\"出版年確認\")\n",
    "print(scival_filter_result[\"Year\"].unique())\n",
    "print(\"---\")\n",
    "print(\"文献タイプ確認\")\n",
    "print(scival_filter_result[\"Publication type\"].unique())\n",
    "print(\"---\")\n",
    "print(\"トップパーセンタイル範囲（分野補正）: \" + str(toppstart) + \"~\" + str(toppend)) \n",
    "print(\"---\")\n",
    "print(scival_filter_result.columns)\n",
    "print(\"---\")\n",
    "\n",
    "# 各種ファイルの出力\n",
    "scival_filter_result.to_csv(\"output//publications_filter\" + today + \".csv\", index=False, header=True, encoding=\"utf-8_sig\")"
   ]
  },
  {
   "cell_type": "markdown",
   "metadata": {},
   "source": [
    "## ⑤　ユニークなメールアドレスを基に、マッチング結果の集計を行う  "
   ]
  },
  {
   "cell_type": "code",
   "execution_count": 18,
   "metadata": {},
   "outputs": [],
   "source": [
    "# マッチング作業の下準備に、文献リストを下記のような構造に変更する（AU-ID別文献リスト）\n",
    "# 処理前：　　　論文A　| 著者ID1,著者ID2,著者ID3 | EID A\n",
    "# 処理後：      論文A ｜ 著者ID1 | EID A\n",
    "#               論文A ｜ 著者ID2 | EID A\n",
    "#               論文A ｜ 著者ID3 | EID A\n",
    "#Scopus Author Idsがauidsになる必要なのでは要確認\n",
    "scival_filter_result[\"auids\"] = scival_filter_result[\"auids\"].str.replace(\" \",\"\").str.split(\"|\")\n",
    "scival_filter_result_explode = scival_filter_result.explode(\"auids\")\n",
    "scival_filter_result_explode.rename(columns={\"auids\":\"AU_ID_sep\"}, inplace=True)\n",
    "scival_filter_result_explode.to_csv(\"output//result_pub_split_auid\" + today + \".csv\", index=False, header=True, encoding=\"utf-8_sig\")"
   ]
  },
  {
   "cell_type": "code",
   "execution_count": 19,
   "metadata": {},
   "outputs": [
    {
     "name": "stdout",
     "output_type": "stream",
     "text": [
      "名簿上の全登録者数: 16\n"
     ]
    }
   ],
   "source": [
    "# 名簿の読み込み（便宜上、全項目を文字列指定で読み込む）\n",
    "meibo = pd.read_excel(input_bukyoku_meibo, dtype=\"str\")\n",
    "\n",
    "meibo.columns = [\"メールアドレス\",\"氏名\",\"職名\",\"部局名\", \"所属\",\"Scopus_AuthorID_01\"] \n",
    "\n",
    "# 研究者名簿の登録研究者数を確認する\n",
    "print(\"名簿上の全登録者数: \" + str(len(meibo)))\n",
    "\n",
    "# 横の情報（wide)を縦に(long)に変える、すべての著者ID列を一つの列にまとめる\n",
    "\n",
    "meibo_au_id_split= meibo.melt(id_vars=[\"メールアドレス\",\"氏名\",\"職名\",\"部局名\", \"所属\"], \n",
    "                              value_vars=[\"Scopus_AuthorID_01\"],\n",
    "                              var_name=\"AU-ID_COL\", value_name=\"AU_ID_sep\")\n",
    "\n",
    "# 不要な情報の削除\n",
    "meibo_au_id_split[\"AU_ID_sep\"].dropna(inplace=True)\n",
    "meibo_au_id_split.drop(axis=0, columns=\"AU-ID_COL\", inplace=True)\n",
    "\n",
    "# メール形式確認（スペース、@マーク、全角半角問題）\n",
    "meibo_au_id_split[\"メールアドレス\"] = meibo_au_id_split[\"メールアドレス\"].str.replace(\" \",\"\").str.replace(\"　\", \"\").str.replace(\"＠\",\"@\")\n",
    "\n",
    "# 研究者に関する情報をまとめたファイルを書き出す(後程staffとして再読み込み)\n",
    "meibo_au_id_split.to_csv(\"output//result_staff\" + bukyokumei + today + \".csv\", index=False, header=True, encoding=\"utf-8_sig\") "
   ]
  },
  {
   "cell_type": "code",
   "execution_count": 20,
   "metadata": {},
   "outputs": [],
   "source": [
    "# 書誌情報と研究者情報をScopus著者IDを基準に結合（完全一致の部分のみ）\n",
    "result = pd.merge( scival_filter_result_explode, meibo_au_id_split, how=\"inner\", on=\"AU_ID_sep\" )\n",
    "\n",
    "# 書誌情報と研究者情報を結合するために、人事情報のほうの項目のデータ形式を合わせる（文字列を数値に変換する）\n",
    "result[\"Year\"] = result[\"Year\"].astype(np.int64)\n",
    "result[\"Outputs in Top Citation Percentiles, per percentile\"] = result[\"Outputs in Top Citation Percentiles, per percentile\"].astype(np.int64)\n",
    "result[\"Field-Weighted Outputs in Top Citation Percentiles, per percentile\"] = result[\"Field-Weighted Outputs in Top Citation Percentiles, per percentile\"].astype(np.int64)\n",
    "result[\"Citations\"] = result[\"Citations\"].astype(np.int64)\n",
    "result[\"Field-Weighted Citation Impact\"] = result[\"Field-Weighted Citation Impact\"].astype(np.float64)\n",
    "\n",
    "result.to_csv(\"output//matching_result\" + bukyokumei + today + \".csv\", encoding=\"utf-8_sig\")\n",
    "\n",
    "# 該当部局でどれぐらいの研究者が引っかかるかの確認\n",
    "# トップn%までの論文の有無を確認の上、ピボットテーブルを作成する\n",
    "try:\n",
    "    pt = pd.pivot_table(result, index=[\"氏名\", \"職名\", \"部局名\", \"所属\", \"メールアドレス\", \"AU_ID_sep\"], \n",
    "                        columns=\"Year\", values=\"EID\", aggfunc=\"count\", fill_value=0, margins=True, margins_name=\"総数\")\n",
    "except:\n",
    "    print(\"該当なし\")\n",
    "\n",
    "# ピボットテーブルの作成。研究者氏名別・年別集計を表示する。研究者は複数IDがある場合、それぞれのIDの結果が表示される\n",
    "# メール配信の際には、論文情報はきちんと研究者別に整理される\n",
    "pivot = pt.sort_values(\"総数\", ascending=False)\n",
    "pivot.head(25)\n",
    "\n",
    "pivot.to_csv(\"output//pivot\" + bukyokumei  + today + \".csv\", encoding=\"utf-8_sig\")"
   ]
  },
  {
   "cell_type": "markdown",
   "metadata": {},
   "source": [
    "## ⑥　メールアドレスごとに、文献リストを定型文に流し込み、自動的にメール配信を行う"
   ]
  },
  {
   "cell_type": "code",
   "execution_count": 21,
   "metadata": {},
   "outputs": [
    {
     "name": "stdout",
     "output_type": "stream",
     "text": [
      "絞り込み条件適応後の宛先研究者数\n",
      "11\n",
      "---\n",
      "対象研究者メールアドレス\n",
      "['tetsuya.nakamura.b5@tohoku.ac.jp', 'junya.yoshida.e5@tohoku.ac.jp', 'shuichi.ogawa.a5@tohoku.ac.jp', 'susumu.yamamoto.a7@tohoku.ac.jp', 'atsushi.muramatsu.d8@tohoku.ac.jp', 'wataru.yashiro.a2@tohoku.ac.jp', 'nozomu.ishiguro.c1@tohoku.ac.jp', 'kozo.shinoda.e8@tohoku.ac.jp', 'kiyoshi.kanie.d7@tohoku.ac.jp', 'masaki.takata.a4@tohoku.ac.jp', 'yukio.takahashi.a8@tohoku.ac.jp']\n"
     ]
    }
   ],
   "source": [
    "# メールへの表記載のために、分かりにくい英語名称の列名を日本語に変更する\n",
    "result.columns = [\"Scopus著者ID\", \"EID\", \"出版年\", \"論文タイトル\", \"雑誌名\", \"文献タイプ\", \"Scopus分野\", \"被引用回数\", \"FWCI\",\n",
    "                  \"パーセンタイル（被引用基準）\", \"パーセンタイル（FWCI基準）\",\"リンク\", \"メールアドレス\", \"氏名\", \"職名\", \"部局名\", \"所属\"]\n",
    "\n",
    "# パーセンタイル昇順に並び替える、現時点はパーセンタイル（FWCI基準）基準になっている\n",
    "result.sort_values(by=[\"パーセンタイル（FWCI基準）\",\"FWCI\"], inplace=True, ascending=[True, False])\n",
    "\n",
    "# メールの宛先のリストを取得する（重複なし）\n",
    "mail_target = pt.reset_index()[\"メールアドレス\"].unique()\n",
    "target_list = mail_target.tolist()\n",
    "target_list = list(filter(None, target_list))\n",
    "\n",
    "# 以下処理結果の確認（トップパーセンタイルに該当する方の数）\n",
    "print(\"絞り込み条件適応後の宛先研究者数\")\n",
    "print(len(target_list))\n",
    "print(\"---\")\n",
    "print(\"対象研究者メールアドレス\")\n",
    "print(target_list)"
   ]
  },
  {
   "cell_type": "code",
   "execution_count": 22,
   "metadata": {},
   "outputs": [],
   "source": [
    "# メールメッセージのテンプレート\n",
    "\n",
    "# 件名\n",
    "subjecttext = \"【お知らせ】Scopusにおける貴方のトップ15%文献につきまして\"\n",
    "\n",
    "# メールの冒頭の挨拶文及び背景説明部分\n",
    "mailtextpart1 = (\"こちらは、東北大学URAセンターです。<br>日頃、URAセンターの活動へのご理解、ご協力に感謝申し上げます。\"\n",
    "                \"<br><br>さて、このたび、URAセンターは、先生方の研究成果をより多くの研究者に\"\n",
    "                 \"知ってもらうことを通して、本学の研究力のビジビリティ向上、ひいては研究力強化のために、先生方の文献で\"\n",
    "                 \"被引用数の比較的高い文献を先生方にお知らせするサービスをはじめました。<br><br>\"\n",
    "                 \"この通知は、2016〜2021年に出版され、Elsevier社のScopusに掲載された文献（ErratumとRetractedを除き）の中から、\"\n",
    "                 \"FWCIがトップ15%に入る文献についてお知らせするものです。下記表の「パーセンタイル（FWCI基準）」列\"\n",
    "                 \"のほうで各文献のパーセンタイルが確認できます。補足ですが、文献リストはパーセンタイル（FWCI基準）を\"\n",
    "                 \"昇順に並べ替えたものになります。また、FWCIは出版後の4年目で値がフィックスされますが、それまでに\"\n",
    "                 \"特に近年の値が変動しやすいです。<br><br>\")\n",
    "\n",
    "# 専用ウェブサイトへのコメント\n",
    "mailtextpart2 = (\"データの詳細については、下記URAセンターのトップn%文献お知らせサービス専用ウェブサイトをご参照ください。<br>\")\n",
    "\n",
    "# メールの締めの部分\n",
    "mailtextpart3 = (\"なお、今後このような通知を希望なさらない場合は、お手数ですが、本通知に返信する形で本文に「停止」をご記載の上、\"\n",
    "                 \"ご返信をお願い致します。</i><br><br>今後ともどうぞよろしくお願い申し上げます。<br><br>\"\n",
    "                 \"研究推進・支援機構URAセンター分析チーム（ハンゼン）\")"
   ]
  },
  {
   "cell_type": "markdown",
   "metadata": {},
   "source": [
    "### 注意：配信開始の前に再度要確認（from_email, bc, target_list）！"
   ]
  },
  {
   "cell_type": "code",
   "execution_count": 12,
   "metadata": {},
   "outputs": [
    {
     "name": "stdout",
     "output_type": "stream",
     "text": [
      "atsushi.muramatsu.d8@tohoku.ac.jp, ---\n",
      "各種処理結果ファイルはoutputフォルダーでご確認いただけます\n",
      "配信完了\n"
     ]
    }
   ],
   "source": [
    "# 個別の結果を自動的にgmailに送付する\n",
    "# 一斉メールではなく、一通一通を間隔をあけて送る\n",
    "## GMailの安全性の低いアプリと Google アカウントの設定の確認\n",
    "target_list = [\"atsushi.muramatsu.d8@tohoku.ac.jp\"] #実際実施する際に削除or文頭に「#」を付けてコマンドアウトする\n",
    "\n",
    "# 送受信先\n",
    "from_email = account\n",
    "#bc = \"hansen.marc.a6@tohoku.ac.jp\" #BCでコード結果の確認、または関係URAにも共有する。\n",
    "# 該当者リストの各研究者（n）ごとに文献リストのフィルターリングを行い、表としてメールに表示する\n",
    "for n in target_list:\n",
    "    if len(result[result[\"メールアドレス\"] == n]) != 0: \n",
    "        to_email = \"hansen.marc.a6@tohoku.ac.jp\" #n 自分のメールアドレスに変更すれば、試行が可能になる\n",
    "        sel = result[result[\"メールアドレス\"] == n]\n",
    "        name = sel[\"氏名\"].iloc[0].split(\" \")[0]\n",
    "        output = sel[[\"出版年\", \"論文タイトル\", \"雑誌名\", \"文献タイプ\", \"被引用回数\", \"パーセンタイル（FWCI基準）\", \"FWCI\", \"Scopus分野\", \"リンク\"]]\n",
    "        table = output.to_html(index=False)\n",
    "        nbpubs = len(output)\n",
    "        subject = subjecttext\n",
    "        #メールのテキスト構造、テキストと変数を組み合わせる\n",
    "        message = name + \"先生<br><br>\" + mailtextpart1 + mailtextpart2 + \"<a href='https://ura.tohoku.ac.jp/mailservice/'>専用サイトはこちらをクリックしてください。</a>\" + \"<br><br><b>貴方のトップ1～15%文献情報（\" + \"Scopus\" + timestamp + \"時点）(\" + str(nbpubs) +\"報\" +  \")\" + \"</b><br>\" + table + \"※データ時点により、SciValとScopusの値が異なることがあります。特に近年の値がよく変動します。ご了承ください。\" + mailtextpart3\n",
    "\n",
    "    msg = MIMEText(message, \"html\")\n",
    "    msg[\"Subject\"] = subject\n",
    "    msg[\"To\"] = to_email\n",
    "#    msg[\"Bc\"] = bc\n",
    "    msg[\"From\"] = from_email\n",
    "    server = smtplib.SMTP_SSL(\"smtp.gmail.com\", 465, context=ssl.create_default_context())\n",
    "    server.login(account, app_password)\n",
    "    server.send_message(msg)        \n",
    "    server.quit()\n",
    "    print(n, end=\", \") # 確認用に、処理した研究者のメールアドレスを表示する\n",
    "    time.sleep(15) # 15秒間隔で送る\n",
    "\n",
    "# 処理完了確認用\n",
    "print(\"---\")\n",
    "print(\"各種処理結果ファイルはoutputフォルダーでご確認いただけます\")\n",
    "print(\"配信完了\")"
   ]
  },
  {
   "cell_type": "code",
   "execution_count": null,
   "metadata": {},
   "outputs": [],
   "source": []
  }
 ],
 "metadata": {
  "kernelspec": {
   "display_name": "Python 3 (ipykernel)",
   "language": "python",
   "name": "python3"
  },
  "language_info": {
   "codemirror_mode": {
    "name": "ipython",
    "version": 3
   },
   "file_extension": ".py",
   "mimetype": "text/x-python",
   "name": "python",
   "nbconvert_exporter": "python",
   "pygments_lexer": "ipython3",
   "version": "3.9.12"
  }
 },
 "nbformat": 4,
 "nbformat_minor": 4
}
