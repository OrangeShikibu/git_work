{
  "nbformat": 4,
  "nbformat_minor": 0,
  "metadata": {
    "colab": {
      "name": "bertRenshu0724.ipynb",
      "provenance": [],
      "collapsed_sections": [],
      "toc_visible": true,
      "mount_file_id": "1_6bsxsNGf0y75nDz_GQfoMM2Y3gRdkmV",
      "authorship_tag": "ABX9TyNtNHTcEvB9eU5gk0H1upoa",
      "include_colab_link": true
    },
    "kernelspec": {
      "name": "python3",
      "display_name": "Python 3"
    },
    "language_info": {
      "name": "python"
    },
    "accelerator": "GPU",
    "gpuClass": "standard"
  },
  "cells": [
    {
      "cell_type": "markdown",
      "metadata": {
        "id": "view-in-github",
        "colab_type": "text"
      },
      "source": [
        "<a href=\"https://colab.research.google.com/github/OrangeShikibu/py_work/blob/main/bertRenshu0724.ipynb\" target=\"_parent\"><img src=\"https://colab.research.google.com/assets/colab-badge.svg\" alt=\"Open In Colab\"/></a>"
      ]
    },
    {
      "cell_type": "code",
      "execution_count": 26,
      "metadata": {
        "id": "y_qj48rVCp9S"
      },
      "outputs": [],
      "source": [
        "import torch\n"
      ]
    },
    {
      "cell_type": "code",
      "source": [
        "!pip install transformers==4.5.0 fugashi==1.1.0 ipadic==1.0.0\n",
        "from transformers import BertJapaneseTokenizer, BertModel"
      ],
      "metadata": {
        "id": "L8nLay8VEJAD"
      },
      "execution_count": null,
      "outputs": []
    },
    {
      "cell_type": "code",
      "source": [
        "model_name = 'cl-tohoku/bert-base-japanese-whole-word-masking'\n",
        "tokenizer = BertJapaneseTokenizer.from_pretrained(model_name)"
      ],
      "metadata": {
        "id": "NArBsJE_EU-9"
      },
      "execution_count": 28,
      "outputs": []
    },
    {
      "cell_type": "code",
      "source": [
        "tokenizer.tokenize('明日は自然言語処理の勉強をしましょう。')"
      ],
      "metadata": {
        "id": "fV0prbYdFd4H"
      },
      "execution_count": null,
      "outputs": []
    },
    {
      "cell_type": "code",
      "source": [
        "tokenizer.tokenize('明日はマシンラーニングの勉強をしよう。')"
      ],
      "metadata": {
        "id": "RRNgGtO7Fp6s"
      },
      "execution_count": null,
      "outputs": []
    },
    {
      "cell_type": "code",
      "source": [
        "input_ids = tokenizer.encode('明日は自然言語処理の勉強をしよう。')\n",
        "print(input_ids)"
      ],
      "metadata": {
        "id": "oVdliK56F4DO"
      },
      "execution_count": null,
      "outputs": []
    },
    {
      "cell_type": "code",
      "source": [
        "tokenizer.convert_ids_to_tokens(input_ids)"
      ],
      "metadata": {
        "id": "AdDERE94GOmT"
      },
      "execution_count": null,
      "outputs": []
    },
    {
      "cell_type": "code",
      "source": [
        "text = \"明日の天気は晴れだ。\"\n",
        "encoding = tokenizer(\n",
        "    text, max_length=12, padding='max_length', truncation=True\n",
        ")\n",
        "print('# encoding:')\n",
        "print(encoding)"
      ],
      "metadata": {
        "id": "-mYs3ESqGf3s"
      },
      "execution_count": null,
      "outputs": []
    },
    {
      "cell_type": "code",
      "source": [
        "tokens = tokenizer.convert_ids_to_tokens(encoding['input_ids'])\n",
        "print('# tokens:')\n",
        "print(tokens)"
      ],
      "metadata": {
        "id": "PLA1LbnrG9sG"
      },
      "execution_count": null,
      "outputs": []
    },
    {
      "cell_type": "code",
      "source": [
        "encoding = tokenizer(\n",
        "    text, max_length=6, padding='max_length', truncation=True\n",
        ")\n",
        "tokens = tokenizer.convert_ids_to_tokens(encoding['input_ids'])\n",
        "print(tokens)"
      ],
      "metadata": {
        "id": "HA-9eJT-HQfL"
      },
      "execution_count": null,
      "outputs": []
    },
    {
      "cell_type": "code",
      "source": [
        "text_list = ['明日の天気は晴れだ。','パソコンが急に動かなくなった。']\n",
        "tokenizer(\n",
        "    text_list, max_length=10, padding='max_length', truncation=True\n",
        ")"
      ],
      "metadata": {
        "id": "ypnDtgh4ISWS"
      },
      "execution_count": null,
      "outputs": []
    },
    {
      "cell_type": "code",
      "source": [
        "tokenizer(text_list,padding='longest')"
      ],
      "metadata": {
        "id": "IhTyD79-IyCa"
      },
      "execution_count": null,
      "outputs": []
    },
    {
      "cell_type": "code",
      "source": [
        "tokenizer(\n",
        "    text_list,\n",
        "    max_length=10,\n",
        "    padding='max_length',\n",
        "    truncation=True,\n",
        "    return_tensors='pt'\n",
        ")"
      ],
      "metadata": {
        "id": "GJJUxPppJA0n"
      },
      "execution_count": null,
      "outputs": []
    },
    {
      "cell_type": "code",
      "source": [
        "# Bertモデル"
      ],
      "metadata": {
        "id": "Cn47lJ7EJdKf"
      },
      "execution_count": 39,
      "outputs": []
    },
    {
      "cell_type": "code",
      "source": [
        "# モデルのロード\n",
        "model_name='cl-tohoku/bert-base-japanese-whole-word-masking'\n",
        "bert = BertModel.from_pretrained(model_name)\n",
        "\n",
        "# BertをGPUに載せる\n",
        "bert = bert.cuda()"
      ],
      "metadata": {
        "id": "MQLZpP75Jpnd"
      },
      "execution_count": 40,
      "outputs": []
    },
    {
      "cell_type": "code",
      "source": [
        "print(bert.config)"
      ],
      "metadata": {
        "id": "uh4Lpe9gKJVF"
      },
      "execution_count": null,
      "outputs": []
    },
    {
      "cell_type": "code",
      "source": [
        "print(text_list)"
      ],
      "metadata": {
        "id": "qxWrtasrKQC9"
      },
      "execution_count": null,
      "outputs": []
    },
    {
      "cell_type": "code",
      "source": [
        "text_list = [\n",
        "             '明日は自然言語処理の勉強をしよう。',\n",
        "             '明日はマシーンラーニングの勉強をしよう。'\n",
        "]\n",
        "\n",
        "# 文章の符号化\n",
        "encoding = tokenizer(\n",
        "    text_list,\n",
        "    max_length=32,\n",
        "    padding='max_length',\n",
        "    trucation=True,\n",
        "    return_tensors='pt'\n",
        ")\n",
        "\n",
        "# データをGPUに載せる\n",
        "encoding = { k:v.cuda() for k, v in encoding.items() }\n",
        "\n",
        "# BERTでの処理\n",
        "output = bert(**encoding) # それぞれの入力は２次元のtorch.Tensor\n",
        "last_hidden_state = output.last_hidden_state # 最終層の出力"
      ],
      "metadata": {
        "id": "Kwbwf4raKe6G"
      },
      "execution_count": null,
      "outputs": []
    },
    {
      "cell_type": "code",
      "source": [
        "print(last_hidden_state.size())"
      ],
      "metadata": {
        "id": "VYXawZ_ULqGW"
      },
      "execution_count": null,
      "outputs": []
    },
    {
      "cell_type": "code",
      "source": [
        "with torch.no_grad():\n",
        "  output=bert(**encoding)\n",
        "  last_hidden_state=output.last_hidden_state"
      ],
      "metadata": {
        "id": "Un5KFIBTL80G"
      },
      "execution_count": 45,
      "outputs": []
    },
    {
      "cell_type": "code",
      "source": [
        "last_hidden_state = last_hidden_state.cpu() # CPUに移す\n",
        "last_hidden_state = last_hidden_state.numpy() # numpy.ndarryに変換\n",
        "last_hidden_state = last_hidden_state.tolist() # リストに変換"
      ],
      "metadata": {
        "id": "iRrRNTycNE6V"
      },
      "execution_count": 46,
      "outputs": []
    },
    {
      "cell_type": "code",
      "source": [
        "print(last_hidden_state)"
      ],
      "metadata": {
        "id": "lJEs4PJ1NkTs"
      },
      "execution_count": null,
      "outputs": []
    },
    {
      "cell_type": "code",
      "source": [
        ""
      ],
      "metadata": {
        "id": "_CDZPFLANnxh"
      },
      "execution_count": null,
      "outputs": []
    }
  ]
}